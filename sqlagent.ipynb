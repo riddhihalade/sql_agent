{
 "cells": [
  {
   "cell_type": "code",
   "execution_count": 1,
   "metadata": {
    "id": "I2mrtJhSEsiw"
   },
   "outputs": [],
   "source": [
    "import json\n",
    "import os\n",
    "import sqlite3\n",
    "from dataclasses import asdict, dataclass\n",
    "from datetime import datetime, timezone\n",
    "from pathlib import Path\n",
    "from textwrap import dedent\n",
    "from typing import Any, Dict, List, Tuple, Union\n",
    "\n",
    "import pandas as pd\n",
    "from crewai import Agent, Crew, Process, Task\n",
    "from crewai_tools import tool\n",
    "from langchain.schema import AgentFinish\n",
    "from langchain.schema.output import LLMResult\n",
    "from langchain_community.tools.sql_database.tool import (\n",
    "    InfoSQLDatabaseTool,\n",
    "    ListSQLDatabaseTool,\n",
    "    QuerySQLCheckerTool,\n",
    "    QuerySQLDataBaseTool,\n",
    ")\n",
    "from langchain_community.utilities.sql_database import SQLDatabase\n",
    "from langchain_core.callbacks.base import BaseCallbackHandler\n",
    "from langchain_core.prompts import ChatPromptTemplate\n",
    "from langchain_groq import ChatGroq\n",
    "from dotenv import load_dotenv\n",
    "\n",
    "# Load environment variables from .env file\n",
    "load_dotenv()\n",
    "\n",
    "# Access the API key\n",
    "groq_api_key = os.getenv(\"GROQ_API_KEY\")\n",
    "\n",
    "# Now you can use groq_api_key in your script\n",
    "os.environ[\"GROQ_API_KEY\"] = groq_api_key\n",
    "\n"
   ]
  },
  {
   "cell_type": "code",
   "execution_count": 2,
   "metadata": {
    "colab": {
     "base_uri": "https://localhost:8080/",
     "height": 206
    },
    "id": "se6FP6n-HHkf",
    "outputId": "176962f8-afda-42b4-d982-367297c046e1"
   },
   "outputs": [
    {
     "data": {
      "text/html": [
       "<div>\n",
       "<style scoped>\n",
       "    .dataframe tbody tr th:only-of-type {\n",
       "        vertical-align: middle;\n",
       "    }\n",
       "\n",
       "    .dataframe tbody tr th {\n",
       "        vertical-align: top;\n",
       "    }\n",
       "\n",
       "    .dataframe thead th {\n",
       "        text-align: right;\n",
       "    }\n",
       "</style>\n",
       "<table border=\"1\" class=\"dataframe\">\n",
       "  <thead>\n",
       "    <tr style=\"text-align: right;\">\n",
       "      <th></th>\n",
       "      <th>work_year</th>\n",
       "      <th>experience_level</th>\n",
       "      <th>employment_type</th>\n",
       "      <th>job_title</th>\n",
       "      <th>salary</th>\n",
       "      <th>salary_currency</th>\n",
       "      <th>salary_in_usd</th>\n",
       "      <th>employee_residence</th>\n",
       "      <th>remote_ratio</th>\n",
       "      <th>company_location</th>\n",
       "      <th>company_size</th>\n",
       "    </tr>\n",
       "  </thead>\n",
       "  <tbody>\n",
       "    <tr>\n",
       "      <th>0</th>\n",
       "      <td>2023</td>\n",
       "      <td>SE</td>\n",
       "      <td>FT</td>\n",
       "      <td>Principal Data Scientist</td>\n",
       "      <td>80000</td>\n",
       "      <td>EUR</td>\n",
       "      <td>85847</td>\n",
       "      <td>ES</td>\n",
       "      <td>100</td>\n",
       "      <td>ES</td>\n",
       "      <td>L</td>\n",
       "    </tr>\n",
       "    <tr>\n",
       "      <th>1</th>\n",
       "      <td>2023</td>\n",
       "      <td>MI</td>\n",
       "      <td>CT</td>\n",
       "      <td>ML Engineer</td>\n",
       "      <td>30000</td>\n",
       "      <td>USD</td>\n",
       "      <td>30000</td>\n",
       "      <td>US</td>\n",
       "      <td>100</td>\n",
       "      <td>US</td>\n",
       "      <td>S</td>\n",
       "    </tr>\n",
       "    <tr>\n",
       "      <th>2</th>\n",
       "      <td>2023</td>\n",
       "      <td>MI</td>\n",
       "      <td>CT</td>\n",
       "      <td>ML Engineer</td>\n",
       "      <td>25500</td>\n",
       "      <td>USD</td>\n",
       "      <td>25500</td>\n",
       "      <td>US</td>\n",
       "      <td>100</td>\n",
       "      <td>US</td>\n",
       "      <td>S</td>\n",
       "    </tr>\n",
       "    <tr>\n",
       "      <th>3</th>\n",
       "      <td>2023</td>\n",
       "      <td>SE</td>\n",
       "      <td>FT</td>\n",
       "      <td>Data Scientist</td>\n",
       "      <td>175000</td>\n",
       "      <td>USD</td>\n",
       "      <td>175000</td>\n",
       "      <td>CA</td>\n",
       "      <td>100</td>\n",
       "      <td>CA</td>\n",
       "      <td>M</td>\n",
       "    </tr>\n",
       "    <tr>\n",
       "      <th>4</th>\n",
       "      <td>2023</td>\n",
       "      <td>SE</td>\n",
       "      <td>FT</td>\n",
       "      <td>Data Scientist</td>\n",
       "      <td>120000</td>\n",
       "      <td>USD</td>\n",
       "      <td>120000</td>\n",
       "      <td>CA</td>\n",
       "      <td>100</td>\n",
       "      <td>CA</td>\n",
       "      <td>M</td>\n",
       "    </tr>\n",
       "  </tbody>\n",
       "</table>\n",
       "</div>"
      ],
      "text/plain": [
       "   work_year experience_level employment_type                 job_title  \\\n",
       "0       2023               SE              FT  Principal Data Scientist   \n",
       "1       2023               MI              CT               ML Engineer   \n",
       "2       2023               MI              CT               ML Engineer   \n",
       "3       2023               SE              FT            Data Scientist   \n",
       "4       2023               SE              FT            Data Scientist   \n",
       "\n",
       "   salary salary_currency  salary_in_usd employee_residence  remote_ratio  \\\n",
       "0   80000             EUR          85847                 ES           100   \n",
       "1   30000             USD          30000                 US           100   \n",
       "2   25500             USD          25500                 US           100   \n",
       "3  175000             USD         175000                 CA           100   \n",
       "4  120000             USD         120000                 CA           100   \n",
       "\n",
       "  company_location company_size  \n",
       "0               ES            L  \n",
       "1               US            S  \n",
       "2               US            S  \n",
       "3               CA            M  \n",
       "4               CA            M  "
      ]
     },
     "execution_count": 2,
     "metadata": {},
     "output_type": "execute_result"
    }
   ],
   "source": [
    "df = pd.read_csv(\"ds-salaries.csv\")\n",
    "df.head()"
   ]
  },
  {
   "cell_type": "code",
   "execution_count": 3,
   "metadata": {
    "colab": {
     "base_uri": "https://localhost:8080/"
    },
    "id": "ks123h49RMwM",
    "outputId": "4cd955b8-4324-4ec1-cdb4-7dd16889064e"
   },
   "outputs": [
    {
     "ename": "ValueError",
     "evalue": "Table 'salaries' already exists.",
     "output_type": "error",
     "traceback": [
      "\u001b[1;31m---------------------------------------------------------------------------\u001b[0m",
      "\u001b[1;31mValueError\u001b[0m                                Traceback (most recent call last)",
      "Cell \u001b[1;32mIn[3], line 2\u001b[0m\n\u001b[0;32m      1\u001b[0m connection \u001b[38;5;241m=\u001b[39m sqlite3\u001b[38;5;241m.\u001b[39mconnect(\u001b[38;5;124m\"\u001b[39m\u001b[38;5;124msalaries.db\u001b[39m\u001b[38;5;124m\"\u001b[39m)\n\u001b[1;32m----> 2\u001b[0m \u001b[43mdf\u001b[49m\u001b[38;5;241;43m.\u001b[39;49m\u001b[43mto_sql\u001b[49m\u001b[43m(\u001b[49m\u001b[43mname\u001b[49m\u001b[38;5;241;43m=\u001b[39;49m\u001b[38;5;124;43m\"\u001b[39;49m\u001b[38;5;124;43msalaries\u001b[39;49m\u001b[38;5;124;43m\"\u001b[39;49m\u001b[43m,\u001b[49m\u001b[43m \u001b[49m\u001b[43mcon\u001b[49m\u001b[38;5;241;43m=\u001b[39;49m\u001b[43mconnection\u001b[49m\u001b[43m)\u001b[49m\n",
      "File \u001b[1;32mc:\\Users\\riddh\\AppData\\Local\\pypoetry\\Cache\\virtualenvs\\sqlagent-12_vlNND-py3.10\\lib\\site-packages\\pandas\\util\\_decorators.py:333\u001b[0m, in \u001b[0;36mdeprecate_nonkeyword_arguments.<locals>.decorate.<locals>.wrapper\u001b[1;34m(*args, **kwargs)\u001b[0m\n\u001b[0;32m    327\u001b[0m \u001b[38;5;28;01mif\u001b[39;00m \u001b[38;5;28mlen\u001b[39m(args) \u001b[38;5;241m>\u001b[39m num_allow_args:\n\u001b[0;32m    328\u001b[0m     warnings\u001b[38;5;241m.\u001b[39mwarn(\n\u001b[0;32m    329\u001b[0m         msg\u001b[38;5;241m.\u001b[39mformat(arguments\u001b[38;5;241m=\u001b[39m_format_argument_list(allow_args)),\n\u001b[0;32m    330\u001b[0m         \u001b[38;5;167;01mFutureWarning\u001b[39;00m,\n\u001b[0;32m    331\u001b[0m         stacklevel\u001b[38;5;241m=\u001b[39mfind_stack_level(),\n\u001b[0;32m    332\u001b[0m     )\n\u001b[1;32m--> 333\u001b[0m \u001b[38;5;28;01mreturn\u001b[39;00m func(\u001b[38;5;241m*\u001b[39margs, \u001b[38;5;241m*\u001b[39m\u001b[38;5;241m*\u001b[39mkwargs)\n",
      "File \u001b[1;32mc:\\Users\\riddh\\AppData\\Local\\pypoetry\\Cache\\virtualenvs\\sqlagent-12_vlNND-py3.10\\lib\\site-packages\\pandas\\core\\generic.py:3087\u001b[0m, in \u001b[0;36mNDFrame.to_sql\u001b[1;34m(self, name, con, schema, if_exists, index, index_label, chunksize, dtype, method)\u001b[0m\n\u001b[0;32m   2889\u001b[0m \u001b[38;5;250m\u001b[39m\u001b[38;5;124;03m\"\"\"\u001b[39;00m\n\u001b[0;32m   2890\u001b[0m \u001b[38;5;124;03mWrite records stored in a DataFrame to a SQL database.\u001b[39;00m\n\u001b[0;32m   2891\u001b[0m \n\u001b[1;32m   (...)\u001b[0m\n\u001b[0;32m   3083\u001b[0m \u001b[38;5;124;03m[(1,), (None,), (2,)]\u001b[39;00m\n\u001b[0;32m   3084\u001b[0m \u001b[38;5;124;03m\"\"\"\u001b[39;00m  \u001b[38;5;66;03m# noqa: E501\u001b[39;00m\n\u001b[0;32m   3085\u001b[0m \u001b[38;5;28;01mfrom\u001b[39;00m \u001b[38;5;21;01mpandas\u001b[39;00m\u001b[38;5;21;01m.\u001b[39;00m\u001b[38;5;21;01mio\u001b[39;00m \u001b[38;5;28;01mimport\u001b[39;00m sql\n\u001b[1;32m-> 3087\u001b[0m \u001b[38;5;28;01mreturn\u001b[39;00m \u001b[43msql\u001b[49m\u001b[38;5;241;43m.\u001b[39;49m\u001b[43mto_sql\u001b[49m\u001b[43m(\u001b[49m\n\u001b[0;32m   3088\u001b[0m \u001b[43m    \u001b[49m\u001b[38;5;28;43mself\u001b[39;49m\u001b[43m,\u001b[49m\n\u001b[0;32m   3089\u001b[0m \u001b[43m    \u001b[49m\u001b[43mname\u001b[49m\u001b[43m,\u001b[49m\n\u001b[0;32m   3090\u001b[0m \u001b[43m    \u001b[49m\u001b[43mcon\u001b[49m\u001b[43m,\u001b[49m\n\u001b[0;32m   3091\u001b[0m \u001b[43m    \u001b[49m\u001b[43mschema\u001b[49m\u001b[38;5;241;43m=\u001b[39;49m\u001b[43mschema\u001b[49m\u001b[43m,\u001b[49m\n\u001b[0;32m   3092\u001b[0m \u001b[43m    \u001b[49m\u001b[43mif_exists\u001b[49m\u001b[38;5;241;43m=\u001b[39;49m\u001b[43mif_exists\u001b[49m\u001b[43m,\u001b[49m\n\u001b[0;32m   3093\u001b[0m \u001b[43m    \u001b[49m\u001b[43mindex\u001b[49m\u001b[38;5;241;43m=\u001b[39;49m\u001b[43mindex\u001b[49m\u001b[43m,\u001b[49m\n\u001b[0;32m   3094\u001b[0m \u001b[43m    \u001b[49m\u001b[43mindex_label\u001b[49m\u001b[38;5;241;43m=\u001b[39;49m\u001b[43mindex_label\u001b[49m\u001b[43m,\u001b[49m\n\u001b[0;32m   3095\u001b[0m \u001b[43m    \u001b[49m\u001b[43mchunksize\u001b[49m\u001b[38;5;241;43m=\u001b[39;49m\u001b[43mchunksize\u001b[49m\u001b[43m,\u001b[49m\n\u001b[0;32m   3096\u001b[0m \u001b[43m    \u001b[49m\u001b[43mdtype\u001b[49m\u001b[38;5;241;43m=\u001b[39;49m\u001b[43mdtype\u001b[49m\u001b[43m,\u001b[49m\n\u001b[0;32m   3097\u001b[0m \u001b[43m    \u001b[49m\u001b[43mmethod\u001b[49m\u001b[38;5;241;43m=\u001b[39;49m\u001b[43mmethod\u001b[49m\u001b[43m,\u001b[49m\n\u001b[0;32m   3098\u001b[0m \u001b[43m\u001b[49m\u001b[43m)\u001b[49m\n",
      "File \u001b[1;32mc:\\Users\\riddh\\AppData\\Local\\pypoetry\\Cache\\virtualenvs\\sqlagent-12_vlNND-py3.10\\lib\\site-packages\\pandas\\io\\sql.py:842\u001b[0m, in \u001b[0;36mto_sql\u001b[1;34m(frame, name, con, schema, if_exists, index, index_label, chunksize, dtype, method, engine, **engine_kwargs)\u001b[0m\n\u001b[0;32m    837\u001b[0m     \u001b[38;5;28;01mraise\u001b[39;00m \u001b[38;5;167;01mNotImplementedError\u001b[39;00m(\n\u001b[0;32m    838\u001b[0m         \u001b[38;5;124m\"\u001b[39m\u001b[38;5;124m'\u001b[39m\u001b[38;5;124mframe\u001b[39m\u001b[38;5;124m'\u001b[39m\u001b[38;5;124m argument should be either a Series or a DataFrame\u001b[39m\u001b[38;5;124m\"\u001b[39m\n\u001b[0;32m    839\u001b[0m     )\n\u001b[0;32m    841\u001b[0m \u001b[38;5;28;01mwith\u001b[39;00m pandasSQL_builder(con, schema\u001b[38;5;241m=\u001b[39mschema, need_transaction\u001b[38;5;241m=\u001b[39m\u001b[38;5;28;01mTrue\u001b[39;00m) \u001b[38;5;28;01mas\u001b[39;00m pandas_sql:\n\u001b[1;32m--> 842\u001b[0m     \u001b[38;5;28;01mreturn\u001b[39;00m pandas_sql\u001b[38;5;241m.\u001b[39mto_sql(\n\u001b[0;32m    843\u001b[0m         frame,\n\u001b[0;32m    844\u001b[0m         name,\n\u001b[0;32m    845\u001b[0m         if_exists\u001b[38;5;241m=\u001b[39mif_exists,\n\u001b[0;32m    846\u001b[0m         index\u001b[38;5;241m=\u001b[39mindex,\n\u001b[0;32m    847\u001b[0m         index_label\u001b[38;5;241m=\u001b[39mindex_label,\n\u001b[0;32m    848\u001b[0m         schema\u001b[38;5;241m=\u001b[39mschema,\n\u001b[0;32m    849\u001b[0m         chunksize\u001b[38;5;241m=\u001b[39mchunksize,\n\u001b[0;32m    850\u001b[0m         dtype\u001b[38;5;241m=\u001b[39mdtype,\n\u001b[0;32m    851\u001b[0m         method\u001b[38;5;241m=\u001b[39mmethod,\n\u001b[0;32m    852\u001b[0m         engine\u001b[38;5;241m=\u001b[39mengine,\n\u001b[0;32m    853\u001b[0m         \u001b[38;5;241m*\u001b[39m\u001b[38;5;241m*\u001b[39mengine_kwargs,\n\u001b[0;32m    854\u001b[0m     )\n",
      "File \u001b[1;32mc:\\Users\\riddh\\AppData\\Local\\pypoetry\\Cache\\virtualenvs\\sqlagent-12_vlNND-py3.10\\lib\\site-packages\\pandas\\io\\sql.py:2850\u001b[0m, in \u001b[0;36mSQLiteDatabase.to_sql\u001b[1;34m(self, frame, name, if_exists, index, index_label, schema, chunksize, dtype, method, engine, **engine_kwargs)\u001b[0m\n\u001b[0;32m   2839\u001b[0m             \u001b[38;5;28;01mraise\u001b[39;00m \u001b[38;5;167;01mValueError\u001b[39;00m(\u001b[38;5;124mf\u001b[39m\u001b[38;5;124m\"\u001b[39m\u001b[38;5;132;01m{\u001b[39;00mcol\u001b[38;5;132;01m}\u001b[39;00m\u001b[38;5;124m (\u001b[39m\u001b[38;5;132;01m{\u001b[39;00mmy_type\u001b[38;5;132;01m}\u001b[39;00m\u001b[38;5;124m) not a string\u001b[39m\u001b[38;5;124m\"\u001b[39m)\n\u001b[0;32m   2841\u001b[0m table \u001b[38;5;241m=\u001b[39m SQLiteTable(\n\u001b[0;32m   2842\u001b[0m     name,\n\u001b[0;32m   2843\u001b[0m     \u001b[38;5;28mself\u001b[39m,\n\u001b[1;32m   (...)\u001b[0m\n\u001b[0;32m   2848\u001b[0m     dtype\u001b[38;5;241m=\u001b[39mdtype,\n\u001b[0;32m   2849\u001b[0m )\n\u001b[1;32m-> 2850\u001b[0m \u001b[43mtable\u001b[49m\u001b[38;5;241;43m.\u001b[39;49m\u001b[43mcreate\u001b[49m\u001b[43m(\u001b[49m\u001b[43m)\u001b[49m\n\u001b[0;32m   2851\u001b[0m \u001b[38;5;28;01mreturn\u001b[39;00m table\u001b[38;5;241m.\u001b[39minsert(chunksize, method)\n",
      "File \u001b[1;32mc:\\Users\\riddh\\AppData\\Local\\pypoetry\\Cache\\virtualenvs\\sqlagent-12_vlNND-py3.10\\lib\\site-packages\\pandas\\io\\sql.py:986\u001b[0m, in \u001b[0;36mSQLTable.create\u001b[1;34m(self)\u001b[0m\n\u001b[0;32m    984\u001b[0m \u001b[38;5;28;01mif\u001b[39;00m \u001b[38;5;28mself\u001b[39m\u001b[38;5;241m.\u001b[39mexists():\n\u001b[0;32m    985\u001b[0m     \u001b[38;5;28;01mif\u001b[39;00m \u001b[38;5;28mself\u001b[39m\u001b[38;5;241m.\u001b[39mif_exists \u001b[38;5;241m==\u001b[39m \u001b[38;5;124m\"\u001b[39m\u001b[38;5;124mfail\u001b[39m\u001b[38;5;124m\"\u001b[39m:\n\u001b[1;32m--> 986\u001b[0m         \u001b[38;5;28;01mraise\u001b[39;00m \u001b[38;5;167;01mValueError\u001b[39;00m(\u001b[38;5;124mf\u001b[39m\u001b[38;5;124m\"\u001b[39m\u001b[38;5;124mTable \u001b[39m\u001b[38;5;124m'\u001b[39m\u001b[38;5;132;01m{\u001b[39;00m\u001b[38;5;28mself\u001b[39m\u001b[38;5;241m.\u001b[39mname\u001b[38;5;132;01m}\u001b[39;00m\u001b[38;5;124m'\u001b[39m\u001b[38;5;124m already exists.\u001b[39m\u001b[38;5;124m\"\u001b[39m)\n\u001b[0;32m    987\u001b[0m     \u001b[38;5;28;01mif\u001b[39;00m \u001b[38;5;28mself\u001b[39m\u001b[38;5;241m.\u001b[39mif_exists \u001b[38;5;241m==\u001b[39m \u001b[38;5;124m\"\u001b[39m\u001b[38;5;124mreplace\u001b[39m\u001b[38;5;124m\"\u001b[39m:\n\u001b[0;32m    988\u001b[0m         \u001b[38;5;28mself\u001b[39m\u001b[38;5;241m.\u001b[39mpd_sql\u001b[38;5;241m.\u001b[39mdrop_table(\u001b[38;5;28mself\u001b[39m\u001b[38;5;241m.\u001b[39mname, \u001b[38;5;28mself\u001b[39m\u001b[38;5;241m.\u001b[39mschema)\n",
      "\u001b[1;31mValueError\u001b[0m: Table 'salaries' already exists."
     ]
    }
   ],
   "source": [
    "connection = sqlite3.connect(\"salaries.db\")\n",
    "df.to_sql(name=\"salaries\", con=connection)"
   ]
  },
  {
   "cell_type": "markdown",
   "metadata": {
    "id": "YR-IEK5_zqSy"
   },
   "source": [
    "## LLM (Llama 3)"
   ]
  },
  {
   "cell_type": "code",
   "execution_count": 4,
   "metadata": {
    "id": "5mIreDW7nnvz"
   },
   "outputs": [],
   "source": [
    "@dataclass\n",
    "class Event:\n",
    "    event: str\n",
    "    timestamp: str\n",
    "    text: str\n",
    "\n",
    "\n",
    "def _current_time() -> str:\n",
    "    return datetime.now(timezone.utc).isoformat()\n",
    "\n",
    "\n",
    "class LLMCallbackHandler(BaseCallbackHandler):\n",
    "    def __init__(self, log_path: Path):\n",
    "        self.log_path = log_path\n",
    "\n",
    "    def on_llm_start(\n",
    "        self, serialized: Dict[str, Any], prompts: List[str], **kwargs: Any\n",
    "    ) -> Any:\n",
    "        \"\"\"Run when LLM starts running.\"\"\"\n",
    "        assert len(prompts) == 1\n",
    "        event = Event(event=\"llm_start\", timestamp=_current_time(), text=prompts[0])\n",
    "        with self.log_path.open(\"a\", encoding=\"utf-8\") as file:\n",
    "            file.write(json.dumps(asdict(event)) + \"\\n\")\n",
    "\n",
    "    def on_llm_end(self, response: LLMResult, **kwargs: Any) -> Any:\n",
    "        \"\"\"Run when LLM ends running.\"\"\"\n",
    "        generation = response.generations[-1][-1].message.content\n",
    "        event = Event(event=\"llm_end\", timestamp=_current_time(), text=generation)\n",
    "        with self.log_path.open(\"a\", encoding=\"utf-8\") as file:\n",
    "            file.write(json.dumps(asdict(event)) + \"\\n\")"
   ]
  },
  {
   "cell_type": "code",
   "execution_count": 5,
   "metadata": {
    "id": "PI3M9ZZ9csRn"
   },
   "outputs": [],
   "source": [
    "llm = ChatGroq(\n",
    "    temperature=0,\n",
    "    model_name=\"llama3-70b-8192\",\n",
    "    callbacks=[LLMCallbackHandler(Path(\"prompts.jsonl\"))],\n",
    ")"
   ]
  },
  {
   "cell_type": "code",
   "execution_count": 6,
   "metadata": {
    "colab": {
     "base_uri": "https://localhost:8080/"
    },
    "id": "X2Djmv7jpTu0",
    "outputId": "c0ebea17-cada-4add-e2f3-ec5685a9f67a"
   },
   "outputs": [
    {
     "name": "stdout",
     "output_type": "stream",
     "text": [
      "Anthropic\n"
     ]
    }
   ],
   "source": [
    "human = \"{text}\"\n",
    "prompt = ChatPromptTemplate.from_messages([(\"human\", human)])\n",
    "\n",
    "chain = prompt | llm\n",
    "response = chain.invoke(\n",
    "    {\n",
    "        \"text\": \"Which company has better models OpenAI or Anthropic? Respond with just the company name.\"\n",
    "    }\n",
    ")\n",
    "\n",
    "print(response.content)"
   ]
  },
  {
   "cell_type": "code",
   "execution_count": 7,
   "metadata": {
    "colab": {
     "base_uri": "https://localhost:8080/"
    },
    "id": "_o35icmYp-mN",
    "outputId": "1cd96bb5-8430-4434-9535-8a09725ec5eb"
   },
   "outputs": [
    {
     "data": {
      "text/plain": [
       "{'content': 'Anthropic',\n",
       " 'additional_kwargs': {},\n",
       " 'response_metadata': {'token_usage': {'completion_tokens': 3,\n",
       "   'prompt_tokens': 28,\n",
       "   'total_tokens': 31,\n",
       "   'completion_time': 0.008571429,\n",
       "   'prompt_time': 0.00555311,\n",
       "   'queue_time': 0.00968614,\n",
       "   'total_time': 0.014124539},\n",
       "  'model_name': 'llama3-70b-8192',\n",
       "  'system_fingerprint': 'fp_2f30b0b571',\n",
       "  'finish_reason': 'stop',\n",
       "  'logprobs': None},\n",
       " 'type': 'ai',\n",
       " 'name': None,\n",
       " 'id': 'run-21b69ec6-e9f0-43b9-9a23-3a4df2c34714-0',\n",
       " 'example': False,\n",
       " 'tool_calls': [],\n",
       " 'invalid_tool_calls': [],\n",
       " 'usage_metadata': {'input_tokens': 28,\n",
       "  'output_tokens': 3,\n",
       "  'total_tokens': 31}}"
      ]
     },
     "execution_count": 7,
     "metadata": {},
     "output_type": "execute_result"
    }
   ],
   "source": [
    "response.__dict__"
   ]
  },
  {
   "cell_type": "markdown",
   "metadata": {
    "id": "hsRgIsE3I2Hj"
   },
   "source": [
    "## Tools"
   ]
  },
  {
   "cell_type": "code",
   "execution_count": 8,
   "metadata": {
    "id": "ul46tZozOkOt"
   },
   "outputs": [],
   "source": [
    "db = SQLDatabase.from_uri(\"sqlite:///salaries.db\")"
   ]
  },
  {
   "cell_type": "code",
   "execution_count": 9,
   "metadata": {
    "id": "KB8e9LkLU7P4"
   },
   "outputs": [],
   "source": [
    "@tool(\"list_tables\")\n",
    "def list_tables() -> str:\n",
    "    \"\"\"List the available tables in the database\"\"\"\n",
    "    return ListSQLDatabaseTool(db=db).invoke(\"\")"
   ]
  },
  {
   "cell_type": "code",
   "execution_count": 10,
   "metadata": {
    "colab": {
     "base_uri": "https://localhost:8080/",
     "height": 53
    },
    "id": "kwf--ttQVIkl",
    "outputId": "3d0c05fb-409e-4ce7-8747-75e5e72fe5d5"
   },
   "outputs": [
    {
     "name": "stdout",
     "output_type": "stream",
     "text": [
      "Using Tool: list_tables\n"
     ]
    },
    {
     "data": {
      "text/plain": [
       "'salaries'"
      ]
     },
     "execution_count": 10,
     "metadata": {},
     "output_type": "execute_result"
    }
   ],
   "source": [
    "list_tables.run()"
   ]
  },
  {
   "cell_type": "code",
   "execution_count": 11,
   "metadata": {
    "id": "S0KIpH6HaDxL"
   },
   "outputs": [],
   "source": [
    "@tool(\"tables_schema\")\n",
    "def tables_schema(tables: str) -> str:\n",
    "    \"\"\"\n",
    "    Input is a comma-separated list of tables, output is the schema and sample rows\n",
    "    for those tables. Be sure that the tables actually exist by calling `list_tables` first!\n",
    "    Example Input: table1, table2, table3\n",
    "    \"\"\"\n",
    "    tool = InfoSQLDatabaseTool(db=db)\n",
    "    return tool.invoke(tables)"
   ]
  },
  {
   "cell_type": "code",
   "execution_count": 12,
   "metadata": {
    "colab": {
     "base_uri": "https://localhost:8080/"
    },
    "id": "ZAB_BjhNXw9v",
    "outputId": "48a1e436-4f55-44b5-f216-cd4a0ee338bc"
   },
   "outputs": [
    {
     "name": "stdout",
     "output_type": "stream",
     "text": [
      "Using Tool: tables_schema\n",
      "\n",
      "CREATE TABLE salaries (\n",
      "\t\"index\" INTEGER, \n",
      "\twork_year INTEGER, \n",
      "\texperience_level TEXT, \n",
      "\temployment_type TEXT, \n",
      "\tjob_title TEXT, \n",
      "\tsalary INTEGER, \n",
      "\tsalary_currency TEXT, \n",
      "\tsalary_in_usd INTEGER, \n",
      "\temployee_residence TEXT, \n",
      "\tremote_ratio INTEGER, \n",
      "\tcompany_location TEXT, \n",
      "\tcompany_size TEXT\n",
      ")\n",
      "\n",
      "/*\n",
      "3 rows from salaries table:\n",
      "index\twork_year\texperience_level\temployment_type\tjob_title\tsalary\tsalary_currency\tsalary_in_usd\temployee_residence\tremote_ratio\tcompany_location\tcompany_size\n",
      "0\t2023\tSE\tFT\tPrincipal Data Scientist\t80000\tEUR\t85847\tES\t100\tES\tL\n",
      "1\t2023\tMI\tCT\tML Engineer\t30000\tUSD\t30000\tUS\t100\tUS\tS\n",
      "2\t2023\tMI\tCT\tML Engineer\t25500\tUSD\t25500\tUS\t100\tUS\tS\n",
      "*/\n"
     ]
    }
   ],
   "source": [
    "print(tables_schema.run(\"salaries\"))"
   ]
  },
  {
   "cell_type": "code",
   "execution_count": 13,
   "metadata": {
    "id": "vifEpErMeSue"
   },
   "outputs": [],
   "source": [
    "@tool(\"execute_sql\")\n",
    "def execute_sql(sql_query: str) -> str:\n",
    "    \"\"\"Execute a SQL query against the database. Returns the result\"\"\"\n",
    "    return QuerySQLDataBaseTool(db=db).invoke(sql_query)"
   ]
  },
  {
   "cell_type": "code",
   "execution_count": 14,
   "metadata": {
    "colab": {
     "base_uri": "https://localhost:8080/",
     "height": 89
    },
    "id": "uJxl4UT4cL2e",
    "outputId": "41815107-bfd2-4f9c-f4f2-c521dd6bb065"
   },
   "outputs": [
    {
     "name": "stdout",
     "output_type": "stream",
     "text": [
      "Using Tool: execute_sql\n"
     ]
    },
    {
     "data": {
      "text/plain": [
       "\"[(0, 2023, 'SE', 'FT', 'Principal Data Scientist', 80000, 'EUR', 85847, 'ES', 100, 'ES', 'L'), (1, 2023, 'MI', 'CT', 'ML Engineer', 30000, 'USD', 30000, 'US', 100, 'US', 'S'), (2, 2023, 'MI', 'CT', 'ML Engineer', 25500, 'USD', 25500, 'US', 100, 'US', 'S'), (3, 2023, 'SE', 'FT', 'Data Scientist', 175000, 'USD', 175000, 'CA', 100, 'CA', 'M'), (4, 2023, 'SE', 'FT', 'Data Scientist', 120000, 'USD', 120000, 'CA', 100, 'CA', 'M')]\""
      ]
     },
     "execution_count": 14,
     "metadata": {},
     "output_type": "execute_result"
    }
   ],
   "source": [
    "execute_sql.run(\"SELECT * FROM salaries WHERE salary > 10000 LIMIT 5\")"
   ]
  },
  {
   "cell_type": "code",
   "execution_count": 15,
   "metadata": {
    "id": "LYCpTYKHfizV"
   },
   "outputs": [],
   "source": [
    "@tool(\"check_sql\")\n",
    "def check_sql(sql_query: str) -> str:\n",
    "    \"\"\"\n",
    "    Use this tool to double check if your query is correct before executing it. Always use this\n",
    "    tool before executing a query with `execute_sql`.\n",
    "    \"\"\"\n",
    "    return QuerySQLCheckerTool(db=db, llm=llm).invoke({\"query\": sql_query})"
   ]
  },
  {
   "cell_type": "code",
   "execution_count": 16,
   "metadata": {
    "colab": {
     "base_uri": "https://localhost:8080/",
     "height": 53
    },
    "id": "H2yDnu-rfuEs",
    "outputId": "5c580a2e-c724-474c-ccd4-f559a7eb7be8"
   },
   "outputs": [
    {
     "name": "stdout",
     "output_type": "stream",
     "text": [
      "Using Tool: check_sql\n"
     ]
    },
    {
     "data": {
      "text/plain": [
       "'SELECT * FROM salaries WHERE salary > 10000 LIMIT 5'"
      ]
     },
     "execution_count": 16,
     "metadata": {},
     "output_type": "execute_result"
    }
   ],
   "source": [
    "check_sql.run(\"SELECT * WHERE salary > 10000 LIMIT 5 table = salaries\")"
   ]
  },
  {
   "cell_type": "markdown",
   "metadata": {
    "id": "Es7Me3VqqiWX"
   },
   "source": [
    "## Agents"
   ]
  },
  {
   "cell_type": "code",
   "execution_count": 17,
   "metadata": {
    "id": "qUpeHzLi3B_r"
   },
   "outputs": [],
   "source": [
    "sql_dev = Agent(\n",
    "    role=\"Senior Database Developer\",\n",
    "    goal=\"Construct and execute SQL queries based on a request\",\n",
    "    backstory=dedent(\n",
    "        \"\"\"\n",
    "        You are an experienced database engineer who is master at creating efficient and complex SQL queries.\n",
    "        You have a deep understanding of how different databases work and how to optimize queries.\n",
    "        Use the `list_tables` to find available tables.\n",
    "        Use the `tables_schema` to understand the metadata for the tables.\n",
    "        Use the `execute_sql` to check your queries for correctness.\n",
    "        Use the `check_sql` to execute queries against the database.\n",
    "    \"\"\"\n",
    "    ),\n",
    "    llm=llm,\n",
    "    tools=[list_tables, tables_schema, execute_sql, check_sql],\n",
    "    allow_delegation=False,\n",
    ")"
   ]
  },
  {
   "cell_type": "code",
   "execution_count": 18,
   "metadata": {
    "id": "wyQr8uTSJSfl"
   },
   "outputs": [],
   "source": [
    "data_analyst = Agent(\n",
    "    role=\"Senior Data Analyst\",\n",
    "    goal=\"You receive data from the database developer and analyze it\",\n",
    "    backstory=dedent(\n",
    "        \"\"\"\n",
    "        You have deep experience with analyzing datasets using Python.\n",
    "        Your work is always based on the provided data and is clear,\n",
    "        easy-to-understand and to the point. You have attention\n",
    "        to detail and always produce very detailed work (as long as you need).\n",
    "    \"\"\"\n",
    "    ),\n",
    "    llm=llm,\n",
    "    allow_delegation=False,\n",
    ")"
   ]
  },
  {
   "cell_type": "code",
   "execution_count": 19,
   "metadata": {
    "id": "bl0aLoi5M04r"
   },
   "outputs": [],
   "source": [
    "report_writer = Agent(\n",
    "    role=\"Senior Report Editor\",\n",
    "    goal=\"Write an executive summary type of report based on the work of the analyst\",\n",
    "    backstory=dedent(\n",
    "        \"\"\"\n",
    "        Your writing still is well known for clear and effective communication.\n",
    "        You always summarize long texts into bullet points that contain the most\n",
    "        important details.\n",
    "        \"\"\"\n",
    "    ),\n",
    "    llm=llm,\n",
    "    allow_delegation=False,\n",
    ")"
   ]
  },
  {
   "cell_type": "markdown",
   "metadata": {
    "id": "FJ0XAiPIUka2"
   },
   "source": [
    "## Tasks"
   ]
  },
  {
   "cell_type": "code",
   "execution_count": 20,
   "metadata": {
    "id": "AbON9R2FVEoH"
   },
   "outputs": [],
   "source": [
    "extract_data = Task(\n",
    "    description=\"Extract data that is required for the query {query}.\",\n",
    "    expected_output=\"Database result for the query\",\n",
    "    agent=sql_dev,\n",
    ")"
   ]
  },
  {
   "cell_type": "code",
   "execution_count": 21,
   "metadata": {
    "id": "L8WAvXuQYvAX"
   },
   "outputs": [],
   "source": [
    "analyze_data = Task(\n",
    "    description=\"Analyze the data from the database and write an analysis for {query}.\",\n",
    "    expected_output=\"Detailed analysis text\",\n",
    "    agent=data_analyst,\n",
    "    context=[extract_data],\n",
    ")"
   ]
  },
  {
   "cell_type": "code",
   "execution_count": 22,
   "metadata": {
    "id": "2beRjmK1awqm"
   },
   "outputs": [],
   "source": [
    "write_report = Task(\n",
    "    description=dedent(\n",
    "        \"\"\"\n",
    "        Write an executive summary of the report from the analysis. The report\n",
    "        must be less than 100 words.\n",
    "    \"\"\"\n",
    "    ),\n",
    "    expected_output=\"Markdown report\",\n",
    "    agent=report_writer,\n",
    "    context=[analyze_data],\n",
    ")"
   ]
  },
  {
   "cell_type": "markdown",
   "metadata": {
    "id": "Kw8_nE5xdco0"
   },
   "source": [
    "## Crew"
   ]
  },
  {
   "cell_type": "code",
   "execution_count": 23,
   "metadata": {
    "id": "QIHvPJh8ddgT"
   },
   "outputs": [],
   "source": [
    "crew = Crew(\n",
    "    agents=[sql_dev, data_analyst, report_writer],\n",
    "    tasks=[extract_data, analyze_data, write_report],\n",
    "    process=Process.sequential,\n",
    "    verbose=2,\n",
    "    memory=False,\n",
    "    output_log_file=\"crew.log\",\n",
    ")"
   ]
  },
  {
   "cell_type": "code",
   "execution_count": 24,
   "metadata": {
    "colab": {
     "base_uri": "https://localhost:8080/"
    },
    "id": "zIHp4Tvsd3IG",
    "outputId": "751103aa-b478-4253-9e61-ae57a8065c20"
   },
   "outputs": [
    {
     "name": "stdout",
     "output_type": "stream",
     "text": [
      "\u001b[1m\u001b[95m [2024-08-15 20:16:44][DEBUG]: == Working Agent: Senior Database Developer\u001b[00m\n",
      "\u001b[1m\u001b[95m [2024-08-15 20:16:44][INFO]: == Starting Task: Extract data that is required for the query Effects on salary (in USD) based on company location, size and employee experience.\u001b[00m\n",
      "\u001b[95m \n",
      "\n",
      "salaries\n",
      "\u001b[00m\n",
      "\u001b[95m \n",
      "\n",
      "\n",
      "CREATE TABLE salaries (\n",
      "\t\"index\" INTEGER, \n",
      "\twork_year INTEGER, \n",
      "\texperience_level TEXT, \n",
      "\temployment_type TEXT, \n",
      "\tjob_title TEXT, \n",
      "\tsalary INTEGER, \n",
      "\tsalary_currency TEXT, \n",
      "\tsalary_in_usd INTEGER, \n",
      "\temployee_residence TEXT, \n",
      "\tremote_ratio INTEGER, \n",
      "\tcompany_location TEXT, \n",
      "\tcompany_size TEXT\n",
      ")\n",
      "\n",
      "/*\n",
      "3 rows from salaries table:\n",
      "index\twork_year\texperience_level\temployment_type\tjob_title\tsalary\tsalary_currency\tsalary_in_usd\temployee_residence\tremote_ratio\tcompany_location\tcompany_size\n",
      "0\t2023\tSE\tFT\tPrincipal Data Scientist\t80000\tEUR\t85847\tES\t100\tES\tL\n",
      "1\t2023\tMI\tCT\tML Engineer\t30000\tUSD\t30000\tUS\t100\tUS\tS\n",
      "2\t2023\tMI\tCT\tML Engineer\t25500\tUSD\t25500\tUS\t100\tUS\tS\n",
      "*/\n",
      "\u001b[00m\n",
      "\u001b[95m \n",
      "\n",
      "The original query appears to be correct and does not contain any of the common mistakes listed. Here is the final SQL query:\n",
      "\n",
      "```\n",
      "SELECT company_location, company_size, experience_level, AVG(salary_in_usd) AS avg_salary \n",
      "FROM salaries \n",
      "GROUP BY company_location, company_size, experience_level\n",
      "```\n",
      "\u001b[00m\n",
      "\u001b[95m \n",
      "\n",
      "[('AE', 'L', 'MI', 115000.0), ('AE', 'S', 'SE', 92500.0), ('AL', 'S', 'SE', 10000.0), ('AM', 'S', 'MI', 50000.0), ('AR', 'L', 'EN', 31000.0), ('AR', 'S', 'EN', 13000.0), ('AS', 'L', 'EN', 50000.0), ('AS', 'M', 'EN', 20000.0), ('AS', 'S', 'EN', 18053.0), ('AT', 'L', 'MI', 75141.66666666667), ('AT', 'M', 'EN', 50000.0), ('AT', 'M', 'MI', 61467.0), ('AT', 'S', 'SE', 91237.0), ('AU', 'L', 'EN', 56014.0), ('AU', 'L', 'MI', 71783.75), ('AU', 'L', 'SE', 152383.0), ('AU', 'M', 'EN', 54390.333333333336), ('AU', 'M', 'MI', 53368.0), ('AU', 'M', 'SE', 50000.0), ('AU', 'S', 'EN', 150000.0), ('BA', 'S', 'EN', 120000.0), ('BE', 'L', 'EN', 84053.0), ('BE', 'M', 'MI', 88654.0), ('BE', 'M', 'SE', 82744.0), ('BE', 'S', 'EN', 52008.0), ('BO', 'M', 'MI', 7500.0), ('BR', 'L', 'EN', 11197.0), ('BR', 'M', 'MI', 57698.77777777778), ('BR', 'M', 'SE', 21453.5), ('BR', 'S', 'MI', 12901.0), ('BS', 'M', 'MI', 45555.0), ('CA', 'L', 'EN', 83447.8), ('CA', 'L', 'EX', 159006.5), ('CA', 'L', 'MI', 98364.6), ('CA', 'L', 'SE', 120463.83333333333), ('CA', 'M', 'EN', 59500.0), ('CA', 'M', 'EX', 15000.0), ('CA', 'M', 'MI', 84802.33333333333), ('CA', 'M', 'SE', 152392.45283018867), ('CA', 'S', 'EX', 115222.0), ('CA', 'S', 'MI', 75000.0), ('CA', 'S', 'SE', 181369.0), ('CF', 'M', 'SE', 48609.0), ('CH', 'L', 'EN', 63487.5), ('CH', 'L', 'MI', 112549.5), ('CH', 'S', 'EN', 56536.0), ('CL', 'L', 'MI', 40038.0), ('CN', 'L', 'EN', 100000.0), ('CO', 'L', 'SE', 125000.0), ('CO', 'M', 'EN', 21844.0), ('CO', 'M', 'SE', 56500.0), ('CR', 'S', 'EN', 50000.0), ('CZ', 'L', 'MI', 69999.0), ('CZ', 'M', 'EN', 30469.0), ('CZ', 'M', 'MI', 5132.0), ('DE', 'L', 'EN', 80568.71428571429), ('DE', 'L', 'EX', 141846.0), ('DE', 'L', 'MI', 80497.6), ('DE', 'L', 'SE', 90249.25), ('DE', 'M', 'EN', 50436.5), ('DE', 'M', 'EX', 130026.0), ('DE', 'M', 'MI', 68544.0), ('DE', 'M', 'SE', 170163.55555555556), ('DE', 'S', 'EN', 51066.42857142857), ('DE', 'S', 'MI', 68600.33333333333), ('DE', 'S', 'SE', 96578.0), ('DK', 'L', 'EN', 19073.0), ('DK', 'L', 'SE', 88654.0), ('DK', 'S', 'EN', 37252.5), ('DZ', 'M', 'EN', 100000.0), ('EE', 'L', 'SE', 63312.0), ('EE', 'S', 'MI', 31520.0), ('EG', 'M', 'MI', 22800.0), ('ES', 'L', 'EN', 27317.0), ('ES', 'L', 'EX', 79833.0), ('ES', 'L', 'MI', 38228.0), ('ES', 'L', 'SE', 70423.5), ('ES', 'M', 'EN', 23713.75), ('ES', 'M', 'MI', 61223.41176470588), ('ES', 'M', 'SE', 59665.166666666664), ('ES', 'S', 'EX', 69741.0), ('ES', 'S', 'MI', 47282.0), ('FI', 'M', 'MI', 75020.0), ('FI', 'M', 'SE', 68318.0), ('FI', 'S', 'SE', 63040.0), ('FR', 'L', 'EN', 38284.0), ('FR', 'L', 'MI', 52299.333333333336), ('FR', 'L', 'SE', 87267.4), ('FR', 'M', 'EN', 51172.0), ('FR', 'M', 'MI', 69988.375), ('FR', 'M', 'SE', 89845.6), ('FR', 'S', 'EN', 51321.0), ('FR', 'S', 'MI', 52590.666666666664), ('FR', 'S', 'SE', 53654.0), ('GB', 'L', 'EN', 56049.0), ('GB', 'L', 'MI', 89857.77777777778), ('GB', 'L', 'SE', 95091.0), ('GB', 'M', 'EN', 63861.333333333336), ('GB', 'M', 'EX', 143877.5), ('GB', 'M', 'MI', 83154.95238095238), ('GB', 'M', 'SE', 102207.45161290323), ('GB', 'S', 'EN', 55410.0), ('GB', 'S', 'MI', 68182.0), ('GB', 'S', 'SE', 123510.0), ('GH', 'S', 'EN', 7000.0), ('GH', 'S', 'MI', 30000.0), ('GR', 'L', 'EN', 12877.0), ('GR', 'L', 'SE', 47899.0), ('GR', 'M', 'MI', 58574.454545454544), ('GR', 'S', 'MI', 20000.0), ('HK', 'L', 'MI', 65062.0), ('HN', 'S', 'MI', 20000.0), ('HR', 'M', 'MI', 91142.5), ('HR', 'S', 'SE', 45618.0), ('HU', 'L', 'MI', 35735.0), ('HU', 'M', 'EN', 17684.0), ('ID', 'L', 'EN', 15000.0), ('ID', 'L', 'MI', 53416.0), ('IE', 'L', 'SE', 172309.0), ('IE', 'M', 'MI', 88529.5), ('IE', 'M', 'SE', 128981.0), ('IE', 'S', 'SE', 68293.0), ('IL', 'L', 'SE', 423834.0), ('IL', 'M', 'MI', 119059.0), ('IN', 'L', 'EN', 39371.333333333336), ('IN', 'L', 'EX', 76309.0), ('IN', 'L', 'MI', 23267.235294117647), ('IN', 'L', 'SE', 58774.875), ('IN', 'M', 'EN', 18332.625), ('IN', 'M', 'MI', 18229.75), ('IN', 'S', 'EN', 12986.666666666666), ('IN', 'S', 'MI', 15654.0), ('IN', 'S', 'SE', 15806.0), ('IQ', 'S', 'EN', 100000.0), ('IR', 'M', 'EN', 100000.0), ('IT', 'L', 'MI', 51064.0), ('IT', 'L', 'SE', 68293.0), ('IT', 'M', 'EN', 24165.0), ('IT', 'S', 'EN', 21669.0), ('JP', 'S', 'EN', 41689.0), ('JP', 'S', 'MI', 71691.66666666667), ('JP', 'S', 'SE', 214000.0), ('KE', 'S', 'EN', 9272.0), ('KE', 'S', 'MI', 80000.0), ('LT', 'M', 'MI', 94812.0), ('LU', 'L', 'EN', 59102.0), ('LU', 'M', 'EN', 10000.0), ('LU', 'S', 'MI', 62726.0), ('LV', 'M', 'SE', 57946.5), ('MA', 'S', 'EN', 10000.0), ('MD', 'S', 'MI', 18000.0), ('MK', 'S', 'EN', 6304.0), ('MT', 'L', 'MI', 28369.0), ('MX', 'L', 'MI', 30000.0), ('MX', 'L', 'SE', 60000.0), ('MX', 'M', 'MI', 66000.0), ('MX', 'M', 'SE', 170000.0), ('MX', 'S', 'MI', 36000.0), ('MX', 'S', 'SE', 33511.0), ('MY', 'L', 'EN', 40000.0), ('NG', 'L', 'EN', 65000.0), ('NG', 'L', 'MI', 50000.0), ('NG', 'S', 'EN', 10000.0), ('NG', 'S', 'SE', 200000.0), ('NL', 'L', 'EN', 50944.0), ('NL', 'L', 'EX', 84053.0), ('NL', 'L', 'MI', 71314.0), ('NL', 'L', 'SE', 97629.33333333333), ('NL', 'M', 'MI', 102439.5), ('NL', 'S', 'MI', 54634.0), ('NZ', 'S', 'SE', 125000.0), ('PH', 'S', 'SE', 50000.0), ('PK', 'L', 'MI', 8000.0), ('PK', 'M', 'EN', 30000.0), ('PK', 'M', 'MI', 12000.0), ('PL', 'L', 'EX', 153667.0), ('PL', 'L', 'MI', 36227.333333333336), ('PL', 'S', 'MI', 44365.0), ('PR', 'M', 'SE', 167500.0), ('PT', 'L', 'EN', 21013.0), ('PT', 'L', 'MI', 55685.0), ('PT', 'L', 'SE', 68405.66666666667), ('PT', 'M', 'EN', 22809.0), ('PT', 'M', 'MI', 50180.0), ('PT', 'M', 'SE', 53782.333333333336), ('PT', 'S', 'SE', 29944.0), ('RO', 'L', 'MI', 53654.0), ('RO', 'M', 'MI', 60000.0), ('RU', 'L', 'EX', 168000.0), ('RU', 'M', 'EX', 85000.0), ('SE', 'M', 'EN', 80000.0), ('SE', 'S', 'EN', 130000.0), ('SG', 'L', 'EN', 66970.0), ('SG', 'L', 'MI', 82157.0), ('SG', 'L', 'SE', 8000.0), ('SG', 'M', 'MI', 41383.0), ('SI', 'L', 'MI', 24823.0), ('SI', 'L', 'SE', 102839.0), ('SI', 'M', 'MI', 61702.5), ('SK', 'S', 'SE', 12608.0), ('TH', 'L', 'EN', 15000.0), ('TH', 'L', 'MI', 24740.0), ('TH', 'M', 'SE', 29453.0), ('TR', 'L', 'SE', 20171.0), ('TR', 'M', 'MI', 18779.75), ('UA', 'L', 'EN', 13400.0), ('UA', 'M', 'SE', 84000.0), ('UA', 'S', 'SE', 50000.0), ('US', 'L', 'EN', 105386.73170731707), ('US', 'L', 'EX', 240000.0), ('US', 'L', 'MI', 126846.06666666667), ('US', 'L', 'SE', 175539.59493670886), ('US', 'M', 'EN', 104835.26016260163), ('US', 'M', 'EX', 204151.7888888889), ('US', 'M', 'MI', 129675.77541371158), ('US', 'M', 'SE', 157701.42453282225), ('US', 'S', 'EN', 80196.0), ('US', 'S', 'EX', 249000.0), ('US', 'S', 'MI', 76013.21428571429), ('US', 'S', 'SE', 122588.23529411765), ('VN', 'L', 'EN', 12000.0)]\n",
      "\u001b[00m\n",
      "\u001b[1m\u001b[92m [2024-08-15 20:17:31][DEBUG]: == [Senior Database Developer] Task output: [('AE', 'L', 'MI', 115000.0), ('AE', 'S', 'SE', 92500.0), ('AL', 'S', 'SE', 10000.0), ('AM', 'S', 'MI', 50000.0), ('AR', 'L', 'EN', 31000.0), ('AR', 'S', 'EN', 13000.0), ('AS', 'L', 'EN', 50000.0), ('AS', 'M', 'EN', 20000.0), ('AS', 'S', 'EN', 18053.0), ('AT', 'L', 'MI', 75141.66666666667), ('AT', 'M', 'EN', 50000.0), ('AT', 'M', 'MI', 61467.0), ('AT', 'S', 'SE', 91237.0), ('AU', 'L', 'EN', 56014.0), ('AU', 'L', 'MI', 71783.75), ('AU', 'L', 'SE', 152383.0), ('AU', 'M', 'EN', 54390.333333333336), ('AU', 'M', 'MI', 53368.0), ('AU', 'M', 'SE', 50000.0), ('AU', 'S', 'EN', 150000.0), ('BA', 'S', 'EN', 120000.0), ('BE', 'L', 'EN', 84053.0), ('BE', 'M', 'MI', 88654.0), ('BE', 'M', 'SE', 82744.0), ('BE', 'S', 'EN', 52008.0), ('BO', 'M', 'MI', 7500.0), ('BR', 'L', 'EN', 11197.0), ('BR', 'M', 'MI', 57698.77777777778), ('BR', 'M', 'SE', 21453.5), ('BR', 'S', 'MI', 12901.0), ('BS', 'M', 'MI', 45555.0), ('CA', 'L', 'EN', 83447.8), ('CA', 'L', 'EX', 159006.5), ('CA', 'L', 'MI', 98364.6), ('CA', 'L', 'SE', 120463.83333333333), ('CA', 'M', 'EN', 59500.0), ('CA', 'M', 'EX', 15000.0), ('CA', 'M', 'MI', 84802.33333333333), ('CA', 'M', 'SE', 152392.45283018867), ('CA', 'S', 'EX', 115222.0), ('CA', 'S', 'MI', 75000.0), ('CA', 'S', 'SE', 181369.0), ('CF', 'M', 'SE', 48609.0), ('CH', 'L', 'EN', 63487.5), ('CH', 'L', 'MI', 112549.5), ('CH', 'S', 'EN', 56536.0), ('CL', 'L', 'MI', 40038.0), ('CN', 'L', 'EN', 100000.0), ('CO', 'L', 'SE', 125000.0), ('CO', 'M', 'EN', 21844.0), ('CO', 'M', 'SE', 56500.0), ('CR', 'S', 'EN', 50000.0), ('CZ', 'L', 'MI', 69999.0), ('CZ', 'M', 'EN', 30469.0), ('CZ', 'M', 'MI', 5132.0), ('DE', 'L', 'EN', 80568.71428571429), ('DE', 'L', 'EX', 141846.0), ('DE', 'L', 'MI', 80497.6), ('DE', 'L', 'SE', 90249.25), ('DE', 'M', 'EN', 50436.5), ('DE', 'M', 'EX', 130026.0), ('DE', 'M', 'MI', 68544.0), ('DE', 'M', 'SE', 170163.55555555556), ('DE', 'S', 'EN', 51066.42857142857), ('DE', 'S', 'MI', 68600.33333333333), ('DE', 'S', 'SE', 96578.0), ('DK', 'L', 'EN', 19073.0), ('DK', 'L', 'SE', 88654.0), ('DK', 'S', 'EN', 37252.5), ('DZ', 'M', 'EN', 100000.0), ('EE', 'L', 'SE', 63312.0), ('EE', 'S', 'MI', 31520.0), ('EG', 'M', 'MI', 22800.0), ('ES', 'L', 'EN', 27317.0), ('ES', 'L', 'EX', 79833.0), ('ES', 'L', 'MI', 38228.0), ('ES', 'L', 'SE', 70423.5), ('ES', 'M', 'EN', 23713.75), ('ES', 'M', 'MI', 61223.41176470588), ('ES', 'M', 'SE', 59665.166666666664), ('ES', 'S', 'EX', 69741.0), ('ES', 'S', 'MI', 47282.0), ('FI', 'M', 'MI', 75020.0), ('FI', 'M', 'SE', 68318.0), ('FI', 'S', 'SE', 63040.0), ('FR', 'L', 'EN', 38284.0), ('FR', 'L', 'MI', 52299.333333333336), ('FR', 'L', 'SE', 87267.4), ('FR', 'M', 'EN', 51172.0), ('FR', 'M', 'MI', 69988.375), ('FR', 'M', 'SE', 89845.6), ('FR', 'S', 'EN', 51321.0), ('FR', 'S', 'MI', 52590.666666666664), ('FR', 'S', 'SE', 53654.0), ('GB', 'L', 'EN', 56049.0), ('GB', 'L', 'MI', 89857.77777777778), ('GB', 'L', 'SE', 95091.0), ('GB', 'M', 'EN', 63861.333333333336), ('GB', 'M', 'EX', 143877.5), ('GB', 'M', 'MI', 83154.95238095238), ('GB', 'M', 'SE', 102207.45161290323), ('GB', 'S', 'EN', 55410.0), ('GB', 'S', 'MI', 68182.0), ('GB', 'S', 'SE', 123510.0), ('GH', 'S', 'EN', 7000.0), ('GH', 'S', 'MI', 30000.0), ('GR', 'L', 'EN', 12877.0), ('GR', 'L', 'SE', 47899.0), ('GR', 'M', 'MI', 58574.454545454544), ('GR', 'S', 'MI', 20000.0), ('HK', 'L', 'MI', 65062.0), ('HN', 'S', 'MI', 20000.0), ('HR', 'M', 'MI', 91142.5), ('HR', 'S', 'SE', 45618.0), ('HU', 'L', 'MI', 35735.0), ('HU', 'M', 'EN', 17684.0), ('ID', 'L', 'EN', 15000.0), ('ID', 'L', 'MI', 53416.0), ('IE', 'L', 'SE', 172309.0), ('IE', 'M', 'MI', 88529.5), ('IE', 'M', 'SE', 128981.0), ('IE', 'S', 'SE', 68293.0), ('IL', 'L', 'SE', 423834.0), ('IL', 'M', 'MI', 119059.0), ('IN', 'L', 'EN', 39371.333333333336), ('IN', 'L', 'EX', 76309.0), ('IN', 'L', 'MI', 23267.235294117647), ('IN', 'L', 'SE', 58774.875), ('IN', 'M', 'EN', 18332.625), ('IN', 'M', 'MI', 18229.75), ('IN', 'S', 'EN', 12986.666666666666), ('IN', 'S', 'MI', 15654.0), ('IN', 'S', 'SE', 15806.0), ('IQ', 'S', 'EN', 100000.0), ('IR', 'M', 'EN', 100000.0), ('IT', 'L', 'MI', 51064.0), ('IT', 'L', 'SE', 68293.0), ('IT', 'M', 'EN', 24165.0), ('IT', 'S', 'EN', 21669.0), ('JP', 'S', 'EN', 41689.0), ('JP', 'S', 'MI', 71691.66666666667), ('JP', 'S', 'SE', 214000.0), ('KE', 'S', 'EN', 9272.0), ('KE', 'S', 'MI', 80000.0), ('LT', 'M', 'MI', 94812.0), ('LU', 'L', 'EN', 59102.0), ('LU', 'M', 'EN', 10000.0), ('LU', 'S', 'MI', 62726.0), ('LV', 'M', 'SE', 57946.5), ('MA', 'S', 'EN', 10000.0), ('MD', 'S', 'MI', 18000.0), ('MK', 'S', 'EN', 6304.0), ('MT', 'L', 'MI', 28369.0), ('MX', 'L', 'MI', 30000.0), ('MX', 'L', 'SE', 60000.0), ('MX', 'M', 'MI', 66000.0), ('MX', 'M', 'SE', 170000.0), ('MX', 'S', 'MI', 36000.0), ('MX', 'S', 'SE', 33511.0), ('MY', 'L', 'EN', 40000.0), ('NG', 'L', 'EN', 65000.0), ('NG', 'L', 'MI', 50000.0), ('NG', 'S', 'EN', 10000.0), ('NG', 'S', 'SE', 200000.0), ('NL', 'L', 'EN', 50944.0), ('NL', 'L', 'EX', 84053.0), ('NL', 'L', 'MI', 71314.0), ('NL', 'L', 'SE', 97629.33333333333), ('NL', 'M', 'MI', 102439.5), ('NL', 'S', 'MI', 54634.0), ('NZ', 'S', 'SE', 125000.0), ('PH', 'S', 'SE', 50000.0), ('PK', 'L', 'MI', 8000.0), ('PK', 'M', 'EN', 30000.0), ('PK', 'M', 'MI', 12000.0), ('PL', 'L', 'EX', 153667.0), ('PL', 'L', 'MI', 36227.333333333336), ('PL', 'S', 'MI', 44365.0), ('PR', 'M', 'SE', 167500.0), ('PT', 'L', 'EN', 21013.0), ('PT', 'L', 'MI', 55685.0), ('PT', 'L', 'SE', 68405.66666666667), ('PT', 'M', 'EN', 22809.0), ('PT', 'M', 'MI', 50180.0), ('PT', 'M', 'SE', 53782.333333333336), ('PT', 'S', 'SE', 29944.0), ('RO', 'L', 'MI', 53654.0), ('RO', 'M', 'MI', 60000.0), ('RU', 'L', 'EX', 168000.0), ('RU', 'M', 'EX', 85000.0), ('SE', 'M', 'EN', 80000.0), ('SE', 'S', 'EN', 130000.0), ('SG', 'L', 'EN', 66970.0), ('SG', 'L', 'MI', 82157.0), ('SG', 'L', 'SE', 8000.0), ('SG', 'M', 'MI', 41383.0), ('SI', 'L', 'MI', 24823.0), ('SI', 'L', 'SE', 102839.0), ('SI', 'M', 'MI', 61702.5), ('SK', 'S', 'SE', 12608.0), ('TH', 'L', 'EN', 15000.0), ('TH', 'L', 'MI', 24740.0), ('TH', 'M', 'SE', 29453.0), ('TR', 'L', 'SE', 20171.0), ('TR', 'M', 'MI',\n",
      "\n",
      "\u001b[00m\n",
      "\u001b[1m\u001b[95m [2024-08-15 20:17:31][DEBUG]: == Working Agent: Senior Data Analyst\u001b[00m\n",
      "\u001b[1m\u001b[95m [2024-08-15 20:17:31][INFO]: == Starting Task: Analyze the data from the database and write an analysis for Effects on salary (in USD) based on company location, size and employee experience.\u001b[00m\n",
      "\u001b[1m\u001b[92m [2024-08-15 20:17:33][DEBUG]: == [Senior Data Analyst] Task output: The analysis of the effects of company location, size, and employee experience on salary (in USD) reveals several insights.\n",
      "\n",
      "**Company Location:**\n",
      "\n",
      "* The highest average salaries are found in countries such as the United States, Canada, Australia, and the United Kingdom, with average salaries ranging from $80,000 to over $150,000.\n",
      "* Countries in Europe, such as Germany, France, and the Netherlands, have average salaries ranging from $50,000 to $80,000.\n",
      "* Countries in Asia, such as Japan, Singapore, and India, have average salaries ranging from $30,000 to $60,000.\n",
      "* Countries in South America, such as Brazil and Mexico, have average salaries ranging from $20,000 to $40,000.\n",
      "* Countries in Africa and the Middle East have lower average salaries, ranging from $10,000 to $30,000.\n",
      "\n",
      "**Company Size:**\n",
      "\n",
      "* Large companies tend to pay higher salaries, with an average salary of around $80,000.\n",
      "* Medium-sized companies have an average salary of around $50,000.\n",
      "* Small companies have an average salary of around $30,000.\n",
      "\n",
      "**Employee Experience:**\n",
      "\n",
      "* Employees with more experience tend to earn higher salaries, with an average salary of around $70,000 for those with extensive experience.\n",
      "* Employees with moderate experience have an average salary of around $40,000.\n",
      "* Employees with little experience have an average salary of around $20,000.\n",
      "\n",
      "**Interactions between Factors:**\n",
      "\n",
      "* The interaction between company location and company size reveals that large companies in developed countries tend to pay the highest salaries, while small companies in developing countries tend to pay the lowest salaries.\n",
      "* The interaction between company location and employee experience reveals that employees with more experience tend to earn higher salaries in developed countries, while those with less experience tend to earn lower salaries in developing countries.\n",
      "* The interaction between company size and employee experience reveals that employees with more experience tend to earn higher salaries in larger companies, while those with less experience tend to earn lower salaries in smaller companies.\n",
      "\n",
      "Overall, the analysis suggests that company location, company size, and employee experience all have significant effects on salary, and that these factors interact with each other in complex ways.\n",
      "\n",
      "\u001b[00m\n",
      "\u001b[1m\u001b[95m [2024-08-15 20:17:33][DEBUG]: == Working Agent: Senior Report Editor\u001b[00m\n",
      "\u001b[1m\u001b[95m [2024-08-15 20:17:33][INFO]: == Starting Task: \n",
      "Write an executive summary of the report from the analysis. The report\n",
      "must be less than 100 words.\n",
      "\u001b[00m\n",
      "\u001b[1m\u001b[92m [2024-08-15 20:17:43][DEBUG]: == [Senior Report Editor] Task output: ### Executive Summary\n",
      "\n",
      "The analysis of company location, size, and employee experience on salary reveals significant insights. Key findings include:\n",
      "\n",
      "* **Company Location:** Highest average salaries are found in the US, Canada, Australia, and the UK, ranging from $80,000 to over $150,000.\n",
      "* **Company Size:** Large companies pay higher salaries, averaging $80,000, while small companies pay around $30,000.\n",
      "* **Employee Experience:** Employees with more experience earn higher salaries, averaging $70,000, while those with little experience earn around $20,000.\n",
      "* **Interactions between Factors:** Large companies in developed countries pay the highest salaries, while small companies in developing countries pay the lowest. Employee experience and company size also interact to affect salary.\n",
      "\n",
      "Overall, the analysis highlights the complex interactions between company location, size, and employee experience in determining salary.\n",
      "\n",
      "\u001b[00m\n"
     ]
    }
   ],
   "source": [
    "inputs = {\n",
    "    \"query\": \"Effects on salary (in USD) based on company location, size and employee experience\"\n",
    "}\n",
    "\n",
    "result = crew.kickoff(inputs=inputs)"
   ]
  },
  {
   "cell_type": "code",
   "execution_count": 25,
   "metadata": {
    "colab": {
     "base_uri": "https://localhost:8080/"
    },
    "id": "J03lgCY-vkU3",
    "outputId": "97e4176a-8564-4db4-813b-d909bd3673c8"
   },
   "outputs": [
    {
     "name": "stdout",
     "output_type": "stream",
     "text": [
      "### Executive Summary\n",
      "\n",
      "The analysis of company location, size, and employee experience on salary reveals significant insights. Key findings include:\n",
      "\n",
      "* **Company Location:** Highest average salaries are found in the US, Canada, Australia, and the UK, ranging from $80,000 to over $150,000.\n",
      "* **Company Size:** Large companies pay higher salaries, averaging $80,000, while small companies pay around $30,000.\n",
      "* **Employee Experience:** Employees with more experience earn higher salaries, averaging $70,000, while those with little experience earn around $20,000.\n",
      "* **Interactions between Factors:** Large companies in developed countries pay the highest salaries, while small companies in developing countries pay the lowest. Employee experience and company size also interact to affect salary.\n",
      "\n",
      "Overall, the analysis highlights the complex interactions between company location, size, and employee experience in determining salary.\n"
     ]
    }
   ],
   "source": [
    "print(result)"
   ]
  },
  {
   "cell_type": "code",
   "execution_count": 26,
   "metadata": {
    "colab": {
     "base_uri": "https://localhost:8080/"
    },
    "id": "ARPWEJ-DwRIV",
    "outputId": "9b92daf9-b54c-429c-936c-ea2f91c5109e"
   },
   "outputs": [
    {
     "name": "stdout",
     "output_type": "stream",
     "text": [
      "\u001b[1m\u001b[95m [2024-08-15 20:17:54][DEBUG]: == Working Agent: Senior Database Developer\u001b[00m\n",
      "\u001b[1m\u001b[95m [2024-08-15 20:17:54][INFO]: == Starting Task: Extract data that is required for the query How is the `Machine Learning Engineer` salary in USD is affected by remote positions.\u001b[00m\n",
      "\u001b[95m \n",
      "\n",
      "salaries\n",
      "\u001b[00m\n",
      "\u001b[95m \n",
      "\n",
      "\n",
      "CREATE TABLE salaries (\n",
      "\t\"index\" INTEGER, \n",
      "\twork_year INTEGER, \n",
      "\texperience_level TEXT, \n",
      "\temployment_type TEXT, \n",
      "\tjob_title TEXT, \n",
      "\tsalary INTEGER, \n",
      "\tsalary_currency TEXT, \n",
      "\tsalary_in_usd INTEGER, \n",
      "\temployee_residence TEXT, \n",
      "\tremote_ratio INTEGER, \n",
      "\tcompany_location TEXT, \n",
      "\tcompany_size TEXT\n",
      ")\n",
      "\n",
      "/*\n",
      "3 rows from salaries table:\n",
      "index\twork_year\texperience_level\temployment_type\tjob_title\tsalary\tsalary_currency\tsalary_in_usd\temployee_residence\tremote_ratio\tcompany_location\tcompany_size\n",
      "0\t2023\tSE\tFT\tPrincipal Data Scientist\t80000\tEUR\t85847\tES\t100\tES\tL\n",
      "1\t2023\tMI\tCT\tML Engineer\t30000\tUSD\t30000\tUS\t100\tUS\tS\n",
      "2\t2023\tMI\tCT\tML Engineer\t25500\tUSD\t25500\tUS\t100\tUS\tS\n",
      "*/\n",
      "\u001b[00m\n",
      "\u001b[95m \n",
      "\n",
      "The original query looks good, but I'll reproduce it for you:\n",
      "\n",
      "```\n",
      "SELECT job_title, AVG(salary_in_usd) as avg_salary, remote_ratio \n",
      "FROM salaries \n",
      "WHERE job_title = 'Machine Learning Engineer' \n",
      "GROUP BY remote_ratio;\n",
      "```\n",
      "\u001b[00m\n",
      "\u001b[95m \n",
      "\n",
      "[('Machine Learning Engineer', 162631.52469135803, 0), ('Machine Learning Engineer', 100277.61111111111, 50), ('Machine Learning Engineer', 151874.45871559632, 100)]\n",
      "\u001b[00m\n",
      "\u001b[1m\u001b[92m [2024-08-15 20:18:56][DEBUG]: == [Senior Database Developer] Task output: [('Machine Learning Engineer', 162631.52469135803, 0), ('Machine Learning Engineer', 100277.61111111111, 50), ('Machine Learning Engineer', 151874.45871559632, 100)]\n",
      "\n",
      "\u001b[00m\n",
      "\u001b[1m\u001b[95m [2024-08-15 20:18:56][DEBUG]: == Working Agent: Senior Data Analyst\u001b[00m\n",
      "\u001b[1m\u001b[95m [2024-08-15 20:18:56][INFO]: == Starting Task: Analyze the data from the database and write an analysis for How is the `Machine Learning Engineer` salary in USD is affected by remote positions.\u001b[00m\n",
      "\u001b[1m\u001b[92m [2024-08-15 20:19:04][DEBUG]: == [Senior Data Analyst] Task output: The provided dataset consists of three tuples, each containing the job title 'Machine Learning Engineer', the average salary in USD, and the percentage of remote positions. \n",
      "\n",
      "To analyze the effect of remote positions on the salary of Machine Learning Engineers, we can examine the average salaries for different levels of remote work. \n",
      "\n",
      "The first tuple indicates that Machine Learning Engineers with 0% remote work have an average salary of $162,631.52. \n",
      "\n",
      "The second tuple shows that those with 50% remote work have an average salary of $100,277.61, which is approximately 38% lower than those with no remote work. \n",
      "\n",
      "The third tuple reveals that Machine Learning Engineers with 100% remote work have an average salary of $151,874.46, which is about 7% lower than those with no remote work. \n",
      "\n",
      "Based on this analysis, it appears that remote positions have a negative impact on the salary of Machine Learning Engineers. However, the difference in salary between those with 0% and 100% remote work is relatively small, suggesting that other factors may be influencing the salary. \n",
      "\n",
      "Furthermore, the significant drop in salary for those with 50% remote work is intriguing and may warrant further investigation to understand the underlying causes. \n",
      "\n",
      "Overall, this analysis provides insights into the relationship between remote work and salary for Machine Learning Engineers, but more data would be needed to draw more definitive conclusions.\n",
      "\n",
      "\u001b[00m\n",
      "\u001b[1m\u001b[95m [2024-08-15 20:19:04][DEBUG]: == Working Agent: Senior Report Editor\u001b[00m\n",
      "\u001b[1m\u001b[95m [2024-08-15 20:19:04][INFO]: == Starting Task: \n",
      "Write an executive summary of the report from the analysis. The report\n",
      "must be less than 100 words.\n",
      "\u001b[00m\n",
      "\u001b[1m\u001b[92m [2024-08-15 20:19:12][DEBUG]: == [Senior Report Editor] Task output: **Executive Summary: Remote Work Impact on Machine Learning Engineer Salaries**\n",
      "============================================================\n",
      "\n",
      "### Key Findings\n",
      "\n",
      "* Machine Learning Engineers with 0% remote work have an average salary of $162,631.52.\n",
      "* Those with 50% remote work have an average salary of $100,277.61, a 38% decrease.\n",
      "* Those with 100% remote work have an average salary of $151,874.46, a 7% decrease.\n",
      "* Remote positions have a negative impact on salaries, but the difference between 0% and 100% remote work is relatively small.\n",
      "* The significant drop in salary for 50% remote work warrants further investigation.\n",
      "\n",
      "### Conclusion\n",
      "\n",
      "This analysis provides insights into the relationship between remote work and salary for Machine Learning Engineers. While remote positions appear to have a negative impact on salaries, more data is needed to draw definitive conclusions.\n",
      "\n",
      "\u001b[00m\n"
     ]
    }
   ],
   "source": [
    "inputs = {\n",
    "    \"query\": \"How is the `Machine Learning Engineer` salary in USD is affected by remote positions\"\n",
    "}\n",
    "\n",
    "result = crew.kickoff(inputs=inputs)"
   ]
  },
  {
   "cell_type": "code",
   "execution_count": 29,
   "metadata": {
    "colab": {
     "base_uri": "https://localhost:8080/"
    },
    "id": "47ITwN1JzUcp",
    "outputId": "ffda2743-08d1-41d4-d554-689dace56841"
   },
   "outputs": [
    {
     "name": "stdout",
     "output_type": "stream",
     "text": [
      "**Executive Summary: Impact of Remote Work on Machine Learning Engineer Salaries**\n",
      "============================================================\n",
      "\n",
      "### Key Findings\n",
      "\n",
      "* Average salary for Machine Learning Engineers with no remote work: $162,631.52\n",
      "* Average salary decreases by 38.3% to $100,277.61 with 50% remote work\n",
      "* Average salary increases to $151,874.46 with 100% remote work, still lower than no remote work\n",
      "* Remote work has a negative impact on salaries, but the relationship is not strictly monotonic\n",
      "* Other factors, such as company policies, industry standards, or individual circumstances, may influence the relationship between remote work and salary\n"
     ]
    }
   ],
   "source": [
    "print(result)"
   ]
  },
  {
   "cell_type": "markdown",
   "metadata": {
    "id": "R8zxiGvsE1KY"
   },
   "source": [
    "## References\n",
    "\n",
    "- [DS Salaries Dataset](https://huggingface.co/datasets/Einstellung/demo-salaries)"
   ]
  }
 ],
 "metadata": {
  "colab": {
   "provenance": []
  },
  "kernelspec": {
   "display_name": "Python 3",
   "name": "python3"
  },
  "language_info": {
   "codemirror_mode": {
    "name": "ipython",
    "version": 3
   },
   "file_extension": ".py",
   "mimetype": "text/x-python",
   "name": "python",
   "nbconvert_exporter": "python",
   "pygments_lexer": "ipython3",
   "version": "3.10.4"
  }
 },
 "nbformat": 4,
 "nbformat_minor": 0
}
